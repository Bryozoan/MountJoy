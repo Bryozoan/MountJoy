{
 "cells": [
  {
   "cell_type": "code",
   "execution_count": 1,
   "id": "85004eaf",
   "metadata": {},
   "outputs": [],
   "source": [
    "import numpy as np\n",
    "import pandas as pd\n",
    "from sklearn.preprocessing import StandardScaler\n",
    "from sklearn.decomposition import PCA\n",
    "#import plotly to plot PCA\n",
    "#import matplotlib to plot histograms\n",
    "import matplotlib.pyplot as plt\n",
    "#import statsmodel for Kolmogorov-Smirnov test to determine if the samples came from the same distribution\n",
    "from scipy.stats import ks_2samp, kurtosis, skew"
   ]
  },
  {
   "cell_type": "code",
   "execution_count": 3,
   "id": "b6062644",
   "metadata": {},
   "outputs": [
    {
     "name": "stdout",
     "output_type": "stream",
     "text": [
      "                   Lateral Index  Vertical Sort Order  Vertical Index Index  \\\n",
      "Lateral Sort order                                                            \n",
      "1.0                            1                  2.0             3.0     B   \n",
      "2.0                            1                  3.0             3.0     B   \n",
      "3.0                            1                  6.0             4.0     B   \n",
      "4.0                            1                  4.0             5.0     L   \n",
      "1.0                            2                  1.0             2.0     O   \n",
      "...                          ...                  ...             ...   ...   \n",
      "NaN                          NaN                  NaN             NaN     R   \n",
      "NaN                          NaN                  NaN             NaN    TC   \n",
      "NaN                          NaN                  NaN             NaN    TC   \n",
      "NaN                          NaN                  NaN             NaN    TC   \n",
      "NaN                          NaN                  NaN             NaN    TC   \n",
      "\n",
      "                       Sample  Irregular fenestra  Horizontal sheetcrack  \\\n",
      "Lateral Sort order                                                         \n",
      "1.0                   Timp B8                  55                      5   \n",
      "2.0                   Timp B9                   5                      0   \n",
      "3.0                   Timp B7                  60                     12   \n",
      "4.0                   Timp L2                  55                     12   \n",
      "1.0                   Timp O1                  38                      5   \n",
      "...                       ...                 ...                    ...   \n",
      "NaN                   Timp R3                  10                      0   \n",
      "NaN                  Timp TC1                   0                      0   \n",
      "NaN                 Timp TC-2                   5                      0   \n",
      "NaN                  Timp TC4                   5                      0   \n",
      "NaN                   Timp Z5                  74                     18   \n",
      "\n",
      "                    Interparticle pore space  Radial ooid  Tangential ooid  \\\n",
      "Lateral Sort order                                                           \n",
      "1.0                                        0            0               22   \n",
      "2.0                                        0            0                0   \n",
      "3.0                                        1            4               35   \n",
      "4.0                                        0            0               25   \n",
      "1.0                                       40           14               24   \n",
      "...                                      ...          ...              ...   \n",
      "NaN                                        0           16                7   \n",
      "NaN                                      110          115                0   \n",
      "NaN                                       95           48                0   \n",
      "NaN                                      100           85               10   \n",
      "NaN                                        0           15               15   \n",
      "\n",
      "                    ...  Broken oncoid  Dense film or crust  \\\n",
      "Lateral Sort order  ...                                       \n",
      "1.0                 ...              0                   17   \n",
      "2.0                 ...              0                    0   \n",
      "3.0                 ...              8                    7   \n",
      "4.0                 ...              0                    0   \n",
      "1.0                 ...             12                    0   \n",
      "...                 ...            ...                  ...   \n",
      "NaN                 ...              0                   27   \n",
      "NaN                 ...             10                    0   \n",
      "NaN                 ...             15                    0   \n",
      "NaN                 ...             10                    0   \n",
      "NaN                 ...              0                    0   \n",
      "\n",
      "                    Hazy film or crust  Microstromatolite  Cement botryoid  \\\n",
      "Lateral Sort order                                                           \n",
      "1.0                                107                  0                0   \n",
      "2.0                                  0                  0                0   \n",
      "3.0                                 10                  0                0   \n",
      "4.0                                 10                  0                0   \n",
      "1.0                                  5                  0                0   \n",
      "...                                ...                ...              ...   \n",
      "NaN                                 66                  0                0   \n",
      "NaN                                  0                  0                0   \n",
      "NaN                                  0                  0                0   \n",
      "NaN                                  0                  0                0   \n",
      "NaN                                  0                  0                0   \n",
      "\n",
      "                    Arborescent film and cement  \\\n",
      "Lateral Sort order                                \n",
      "1.0                                           0   \n",
      "2.0                                           0   \n",
      "3.0                                           0   \n",
      "4.0                                           0   \n",
      "1.0                                           0   \n",
      "...                                         ...   \n",
      "NaN                                           0   \n",
      "NaN                                           0   \n",
      "NaN                                           0   \n",
      "NaN                                           0   \n",
      "NaN                                           0   \n",
      "\n",
      "                    Cement and microbial encrustation of crystal termini  \\\n",
      "Lateral Sort order                                                         \n",
      "1.0                                                                14      \n",
      "2.0                                                                 0      \n",
      "3.0                                                                 0      \n",
      "4.0                                                                 0      \n",
      "1.0                                                                 0      \n",
      "...                                                               ...      \n",
      "NaN                                                                 0      \n",
      "NaN                                                                 0      \n",
      "NaN                                                                 0      \n",
      "NaN                                                                 0      \n",
      "NaN                                                                 0      \n",
      "\n",
      "                    Seafloor micrite  # of point counts  Correction factor  \n",
      "Lateral Sort order                                                          \n",
      "1.0                                0                289               2.89  \n",
      "2.0                              105                281               2.81  \n",
      "3.0                                0                316               3.16  \n",
      "4.0                                0                236               2.36  \n",
      "1.0                                0                360               3.60  \n",
      "...                              ...                ...                ...  \n",
      "NaN                                0                247               2.47  \n",
      "NaN                                0                298               2.98  \n",
      "NaN                                0                261               2.61  \n",
      "NaN                                0                290               2.90  \n",
      "NaN                                0                259               2.59  \n",
      "\n",
      "[121 rows x 30 columns]\n"
     ]
    }
   ],
   "source": [
    "#import thinsection data from excel \n",
    "dFthinSectionData = pd.read_excel(r'C:\\Users\\therobe7\\OneDrive\\SRC_and_Research\\MountJoy\\Correct Timpoweap Data sheet.xlsx',\\\n",
    "                                  sheet_name = 'AllData');\n",
    "dFthinSectionData.set_index('Lateral Sort order', inplace=True);\n",
    "print(dFthinSectionData)"
   ]
  },
  {
   "cell_type": "code",
   "execution_count": 3,
   "id": "a8106ea1",
   "metadata": {},
   "outputs": [
    {
     "ename": "NameError",
     "evalue": "name 'StandardScaler' is not defined",
     "output_type": "error",
     "traceback": [
      "\u001b[0;31m---------------------------------------------------------------------------\u001b[0m",
      "\u001b[0;31mNameError\u001b[0m                                 Traceback (most recent call last)",
      "\u001b[0;32m/var/folders/nn/6c88pj057x79g37x47btvy4r0000gn/T/ipykernel_68254/1535311485.py\u001b[0m in \u001b[0;36m<module>\u001b[0;34m\u001b[0m\n\u001b[1;32m      1\u001b[0m \u001b[0;31m#Normalize the data\u001b[0m\u001b[0;34m\u001b[0m\u001b[0;34m\u001b[0m\u001b[0;34m\u001b[0m\u001b[0m\n\u001b[0;32m----> 2\u001b[0;31m \u001b[0mscalerData\u001b[0m \u001b[0;34m=\u001b[0m \u001b[0mStandardScaler\u001b[0m\u001b[0;34m(\u001b[0m\u001b[0mdFthinSectionData\u001b[0m\u001b[0;34m)\u001b[0m\u001b[0;34m;\u001b[0m\u001b[0;34m\u001b[0m\u001b[0;34m\u001b[0m\u001b[0m\n\u001b[0m",
      "\u001b[0;31mNameError\u001b[0m: name 'StandardScaler' is not defined"
     ]
    }
   ],
   "source": [
    "#Normalize the data\n",
    "scalerData = StandardScaler(dFthinSectionData());"
   ]
  },
  {
   "cell_type": "code",
   "execution_count": 4,
   "id": "479da6c2",
   "metadata": {},
   "outputs": [],
   "source": [
    "#Perform PCA\n",
    "pca = PCA(.80)\n",
    "pca.fit(dFthinSectionData);\n",
    "pThinSectionData = pca.transform(dFthinSectionData);\n",
    "print(pca.n_components_)\n",
    "fig = plt.figure(figsize = (8,8))\n",
    "ax = fig.add_subplot(1,1,1, projection='3d') \n",
    "ax.set_xlabel('Principal Component 1', fontsize = 15)\n",
    "ax.set_ylabel('Principal Component 2', fontsize = 15)\n",
    "ax.set_zlabel('Principal Component 3', fontsize = 15)\n",
    "ax.set_title('3 Component PCA', fontsize = 20)\n",
    "tPCA = pca.components_"
   ]
  },
  {
   "cell_type": "code",
   "execution_count": 5,
   "id": "3548ed62",
   "metadata": {},
   "outputs": [
    {
     "ename": "NameError",
     "evalue": "name 'ax' is not defined",
     "output_type": "error",
     "traceback": [
      "\u001b[0;31m---------------------------------------------------------------------------\u001b[0m",
      "\u001b[0;31mNameError\u001b[0m                                 Traceback (most recent call last)",
      "\u001b[0;32m/var/folders/nn/6c88pj057x79g37x47btvy4r0000gn/T/ipykernel_68254/2630423998.py\u001b[0m in \u001b[0;36m<module>\u001b[0;34m\u001b[0m\n\u001b[1;32m      1\u001b[0m \u001b[0;31m## TODO\u001b[0m\u001b[0;34m\u001b[0m\u001b[0;34m\u001b[0m\u001b[0;34m\u001b[0m\u001b[0m\n\u001b[0;32m----> 2\u001b[0;31m \u001b[0max\u001b[0m\u001b[0;34m.\u001b[0m\u001b[0mscatter\u001b[0m\u001b[0;34m(\u001b[0m\u001b[0mpThinSectionData\u001b[0m\u001b[0;34m[\u001b[0m\u001b[0;36m0\u001b[0m\u001b[0;34m:\u001b[0m\u001b[0;36m8\u001b[0m\u001b[0;34m,\u001b[0m\u001b[0;36m0\u001b[0m\u001b[0;34m]\u001b[0m\u001b[0;34m,\u001b[0m\u001b[0mpThinSectionData\u001b[0m\u001b[0;34m[\u001b[0m\u001b[0;36m0\u001b[0m\u001b[0;34m:\u001b[0m\u001b[0;36m8\u001b[0m\u001b[0;34m,\u001b[0m\u001b[0;36m1\u001b[0m\u001b[0;34m]\u001b[0m\u001b[0;34m,\u001b[0m\u001b[0mpThinSectionData\u001b[0m\u001b[0;34m[\u001b[0m\u001b[0;36m0\u001b[0m\u001b[0;34m:\u001b[0m\u001b[0;36m8\u001b[0m\u001b[0;34m,\u001b[0m\u001b[0;36m2\u001b[0m\u001b[0;34m]\u001b[0m\u001b[0;34m,\u001b[0m \u001b[0mc\u001b[0m\u001b[0;34m=\u001b[0m\u001b[0;34m\"blue\"\u001b[0m\u001b[0;34m,\u001b[0m \u001b[0mmarker\u001b[0m\u001b[0;34m=\u001b[0m\u001b[0;34m\"o\"\u001b[0m\u001b[0;34m)\u001b[0m \u001b[0;31m# plot the point (2,3,4) on the figure\u001b[0m\u001b[0;34m\u001b[0m\u001b[0;34m\u001b[0m\u001b[0m\n\u001b[0m\u001b[1;32m      3\u001b[0m \u001b[0max\u001b[0m\u001b[0;34m.\u001b[0m\u001b[0mscatter\u001b[0m\u001b[0;34m(\u001b[0m\u001b[0mpThinSectionData\u001b[0m\u001b[0;34m[\u001b[0m\u001b[0;36m9\u001b[0m\u001b[0;34m:\u001b[0m\u001b[0;36m28\u001b[0m\u001b[0;34m:\u001b[0m\u001b[0;34m,\u001b[0m\u001b[0;36m0\u001b[0m\u001b[0;34m]\u001b[0m\u001b[0;34m,\u001b[0m\u001b[0mpThinSectionData\u001b[0m\u001b[0;34m[\u001b[0m\u001b[0;36m9\u001b[0m\u001b[0;34m:\u001b[0m\u001b[0;36m28\u001b[0m\u001b[0;34m,\u001b[0m\u001b[0;36m1\u001b[0m\u001b[0;34m]\u001b[0m\u001b[0;34m,\u001b[0m\u001b[0mpThinSectionData\u001b[0m\u001b[0;34m[\u001b[0m\u001b[0;36m9\u001b[0m\u001b[0;34m:\u001b[0m\u001b[0;36m28\u001b[0m\u001b[0;34m,\u001b[0m\u001b[0;36m2\u001b[0m\u001b[0;34m]\u001b[0m\u001b[0;34m,\u001b[0m\u001b[0mc\u001b[0m\u001b[0;34m=\u001b[0m\u001b[0;34m\"red\"\u001b[0m\u001b[0;34m,\u001b[0m \u001b[0mmarker\u001b[0m\u001b[0;34m=\u001b[0m\u001b[0;34m\"x\"\u001b[0m\u001b[0;34m)\u001b[0m\u001b[0;34m\u001b[0m\u001b[0;34m\u001b[0m\u001b[0m\n\u001b[1;32m      4\u001b[0m \u001b[0mplt\u001b[0m\u001b[0;34m.\u001b[0m\u001b[0mshow\u001b[0m\u001b[0;34m(\u001b[0m\u001b[0;34m)\u001b[0m\u001b[0;34m\u001b[0m\u001b[0;34m\u001b[0m\u001b[0m\n",
      "\u001b[0;31mNameError\u001b[0m: name 'ax' is not defined"
     ]
    }
   ],
   "source": [
    "## TODO \n",
    "ax.scatter(pThinSectionData[0:8,0],pThinSectionData[0:8,1],pThinSectionData[0:8,2], c=\"blue\", marker=\"o\") # plot the point (2,3,4) on the figure\n",
    "ax.scatter(pThinSectionData[9:28:,0],pThinSectionData[9:28,1],pThinSectionData[9:28,2],c=\"red\", marker=\"x\")\n",
    "plt.show()"
   ]
  },
  {
   "cell_type": "markdown",
   "id": "57dc90cb",
   "metadata": {},
   "source": [
    "# Statistical Shtuff"
   ]
  },
  {
   "cell_type": "code",
   "execution_count": 6,
   "id": "b5e3a734",
   "metadata": {},
   "outputs": [
    {
     "ename": "NameError",
     "evalue": "name 'np' is not defined",
     "output_type": "error",
     "traceback": [
      "\u001b[0;31m---------------------------------------------------------------------------\u001b[0m",
      "\u001b[0;31mNameError\u001b[0m                                 Traceback (most recent call last)",
      "\u001b[0;32m/var/folders/nn/6c88pj057x79g37x47btvy4r0000gn/T/ipykernel_68254/2067063710.py\u001b[0m in \u001b[0;36m<module>\u001b[0;34m\u001b[0m\n\u001b[1;32m      1\u001b[0m \u001b[0;31m#calculate and print the mean\u001b[0m\u001b[0;34m\u001b[0m\u001b[0;34m\u001b[0m\u001b[0;34m\u001b[0m\u001b[0m\n\u001b[0;32m----> 2\u001b[0;31m \u001b[0mdMean1\u001b[0m \u001b[0;34m=\u001b[0m \u001b[0mnp\u001b[0m\u001b[0;34m.\u001b[0m\u001b[0mmean\u001b[0m\u001b[0;34m(\u001b[0m\u001b[0mpThinSectionData\u001b[0m\u001b[0;34m[\u001b[0m\u001b[0;34m:\u001b[0m\u001b[0;34m,\u001b[0m\u001b[0;36m2\u001b[0m\u001b[0;34m]\u001b[0m\u001b[0;34m)\u001b[0m\u001b[0;34m;\u001b[0m\u001b[0;34m\u001b[0m\u001b[0;34m\u001b[0m\u001b[0m\n\u001b[0m\u001b[1;32m      3\u001b[0m \u001b[0mprint\u001b[0m\u001b[0;34m(\u001b[0m\u001b[0mdMean1\u001b[0m\u001b[0;34m)\u001b[0m\u001b[0;34m;\u001b[0m\u001b[0;34m\u001b[0m\u001b[0;34m\u001b[0m\u001b[0m\n\u001b[1;32m      4\u001b[0m \u001b[0;31m#calculate and print the median\u001b[0m\u001b[0;34m\u001b[0m\u001b[0;34m\u001b[0m\u001b[0;34m\u001b[0m\u001b[0m\n\u001b[1;32m      5\u001b[0m \u001b[0mdMedian1\u001b[0m \u001b[0;34m=\u001b[0m \u001b[0mnp\u001b[0m\u001b[0;34m.\u001b[0m\u001b[0mmedian\u001b[0m\u001b[0;34m(\u001b[0m\u001b[0mpThinSectionData\u001b[0m\u001b[0;34m[\u001b[0m\u001b[0;34m:\u001b[0m\u001b[0;34m,\u001b[0m\u001b[0;36m2\u001b[0m\u001b[0;34m]\u001b[0m\u001b[0;34m)\u001b[0m\u001b[0;34m;\u001b[0m\u001b[0;34m\u001b[0m\u001b[0;34m\u001b[0m\u001b[0m\n",
      "\u001b[0;31mNameError\u001b[0m: name 'np' is not defined"
     ]
    }
   ],
   "source": [
    "#calculate and print the mean\n",
    "dMean1 = np.mean(pThinSectionData[:,2]);\n",
    "print(dMean1);\n",
    "#calculate and print the median\n",
    "dMedian1 = np.median(pThinSectionData[:,2]);\n",
    "print(dMedian)\n",
    "#calculate and print the standard deviation\n",
    "dStdDev1 = np.std(pThinSectionData[:,2]);\n",
    "print(dStdDev1)\n",
    "#calculate and print the variance\n",
    "dVar1 = np.var(pThinSectionData[:,2]);\n",
    "print(dVar1)\n",
    "#calculate and print the skewness\n",
    "dSkew1 = skew(pThinSectionData[:,2]);\n",
    "print(dSkew1)\n",
    "#calculate and print the kurtosis\n",
    "dKurt1 = kurtosis(pThinSectionData[:,2]);\n",
    "print(dKurt1)\n",
    "#perform a Kolmogorov-Smirnov test\n",
    "dBioKsTestResult = ks_2samp(dFthinSectionData.loc['N-03':'N-13', \"Biotite\"], dFthinSectionData.loc['RR-01':'K-09', \"Biotite\"])\n",
    "dPCA2KsTestResult = ks_2samp(pThinSectionData[0:8,2], pThinSectionData[9:28,2])\n",
    "#create a histogram for biotite percentage\n",
    "fig, axs = plt.subplots(1, 1, figsize =(10,7), tight_layout = True)\n",
    "axs.hist(dFthinSectionData.loc[:, \"Biotite\"])\n",
    "plt.xlabel(\"Percentage\")\n",
    "plt.ylabel(\"Number of Samples\")\n",
    "plt.title(\"Biotite Percentage\")\n",
    "#show plot\n",
    "plt.show()\n",
    "fig, axs = plt.subplots(1, 1, figsize =(10,7), tight_layout = True)\n",
    "axs.hist(dFthinSectionData.loc['N-03':'N-13',\"Biotite\"])\n",
    "plt.xlabel(\"Percentage\")\n",
    "plt.ylabel(\"Number of Samples\")\n",
    "plt.title(\"Ninuluk Biotite Percentage\")"
   ]
  },
  {
   "cell_type": "code",
   "execution_count": null,
   "id": "21c5be32",
   "metadata": {},
   "outputs": [],
   "source": []
  }
 ],
 "metadata": {
  "kernelspec": {
   "display_name": "Python 3 (ipykernel)",
   "language": "python",
   "name": "python3"
  },
  "language_info": {
   "codemirror_mode": {
    "name": "ipython",
    "version": 3
   },
   "file_extension": ".py",
   "mimetype": "text/x-python",
   "name": "python",
   "nbconvert_exporter": "python",
   "pygments_lexer": "ipython3",
   "version": "3.9.7"
  }
 },
 "nbformat": 4,
 "nbformat_minor": 5
}
