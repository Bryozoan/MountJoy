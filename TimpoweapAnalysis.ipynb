{
 "cells": [
  {
   "cell_type": "markdown",
   "id": "f297ac71",
   "metadata": {},
   "source": [
    "# Analysis of Timpoweap Teepees"
   ]
  },
  {
   "cell_type": "code",
   "execution_count": null,
   "id": "3c84427b",
   "metadata": {},
   "outputs": [],
   "source": [
    "#Set up packages\n",
    "import numpy as np\n",
    "import pandas as pd\n",
    "import matplotlib.pyplot as plt\n",
    "\n",
    "#set the figure resolution much higher:\n",
    "plt.rcParams['figure.dpi'] = 300\n",
    "plt.rcParams['savefig.dpi'] = 500\n",
    "\n",
    "#set up figure style\n",
    "plt.style.use('seaborn-bright')"
   ]
  },
  {
   "cell_type": "markdown",
   "id": "a1353b41",
   "metadata": {},
   "source": []
  },
  {
   "cell_type": "code",
   "execution_count": null,
   "id": "c57ea8d5",
   "metadata": {},
   "outputs": [],
   "source": []
  }
 ],
 "metadata": {
  "kernelspec": {
   "display_name": "Python 3 (ipykernel)",
   "language": "python",
   "name": "python3"
  },
  "language_info": {
   "codemirror_mode": {
    "name": "ipython",
    "version": 3
   },
   "file_extension": ".py",
   "mimetype": "text/x-python",
   "name": "python",
   "nbconvert_exporter": "python",
   "pygments_lexer": "ipython3",
   "version": "3.9.7"
  }
 },
 "nbformat": 4,
 "nbformat_minor": 5
}
